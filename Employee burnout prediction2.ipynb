{
 "cells": [
  {
   "cell_type": "code",
   "execution_count": 105,
   "id": "4be9cb15",
   "metadata": {},
   "outputs": [],
   "source": [
    "import   pandas  as pd\n",
    "import  numpy as np\n",
    "import seaborn as sns\n",
    "import matplotlib.pyplot as plt\n"
   ]
  },
  {
   "cell_type": "code",
   "execution_count": 106,
   "id": "7c726ee9",
   "metadata": {},
   "outputs": [],
   "source": [
    "data=pd.read_csv(r\"C:\\Users\\grace\\Downloads\\archive\\train.csv\")"
   ]
  },
  {
   "cell_type": "code",
   "execution_count": 107,
   "id": "3c55b87f",
   "metadata": {},
   "outputs": [
    {
     "data": {
      "text/plain": [
       "(22750, 9)"
      ]
     },
     "execution_count": 107,
     "metadata": {},
     "output_type": "execute_result"
    }
   ],
   "source": [
    "data.shape"
   ]
  },
  {
   "cell_type": "code",
   "execution_count": 108,
   "id": "58fdc81b",
   "metadata": {},
   "outputs": [
    {
     "data": {
      "text/html": [
       "<div>\n",
       "<style scoped>\n",
       "    .dataframe tbody tr th:only-of-type {\n",
       "        vertical-align: middle;\n",
       "    }\n",
       "\n",
       "    .dataframe tbody tr th {\n",
       "        vertical-align: top;\n",
       "    }\n",
       "\n",
       "    .dataframe thead th {\n",
       "        text-align: right;\n",
       "    }\n",
       "</style>\n",
       "<table border=\"1\" class=\"dataframe\">\n",
       "  <thead>\n",
       "    <tr style=\"text-align: right;\">\n",
       "      <th></th>\n",
       "      <th>Employee ID</th>\n",
       "      <th>Date of Joining</th>\n",
       "      <th>Gender</th>\n",
       "      <th>Company Type</th>\n",
       "      <th>WFH Setup Available</th>\n",
       "      <th>Designation</th>\n",
       "      <th>Resource Allocation</th>\n",
       "      <th>Mental Fatigue Score</th>\n",
       "      <th>Burn Rate</th>\n",
       "    </tr>\n",
       "  </thead>\n",
       "  <tbody>\n",
       "    <tr>\n",
       "      <th>0</th>\n",
       "      <td>fffe32003000360033003200</td>\n",
       "      <td>2008-09-30</td>\n",
       "      <td>Female</td>\n",
       "      <td>Service</td>\n",
       "      <td>No</td>\n",
       "      <td>2.0</td>\n",
       "      <td>3.0</td>\n",
       "      <td>3.8</td>\n",
       "      <td>0.16</td>\n",
       "    </tr>\n",
       "    <tr>\n",
       "      <th>1</th>\n",
       "      <td>fffe3700360033003500</td>\n",
       "      <td>2008-11-30</td>\n",
       "      <td>Male</td>\n",
       "      <td>Service</td>\n",
       "      <td>Yes</td>\n",
       "      <td>1.0</td>\n",
       "      <td>2.0</td>\n",
       "      <td>5.0</td>\n",
       "      <td>0.36</td>\n",
       "    </tr>\n",
       "    <tr>\n",
       "      <th>2</th>\n",
       "      <td>fffe31003300320037003900</td>\n",
       "      <td>2008-03-10</td>\n",
       "      <td>Female</td>\n",
       "      <td>Product</td>\n",
       "      <td>Yes</td>\n",
       "      <td>2.0</td>\n",
       "      <td>NaN</td>\n",
       "      <td>5.8</td>\n",
       "      <td>0.49</td>\n",
       "    </tr>\n",
       "    <tr>\n",
       "      <th>3</th>\n",
       "      <td>fffe32003400380032003900</td>\n",
       "      <td>2008-11-03</td>\n",
       "      <td>Male</td>\n",
       "      <td>Service</td>\n",
       "      <td>Yes</td>\n",
       "      <td>1.0</td>\n",
       "      <td>1.0</td>\n",
       "      <td>2.6</td>\n",
       "      <td>0.20</td>\n",
       "    </tr>\n",
       "    <tr>\n",
       "      <th>4</th>\n",
       "      <td>fffe31003900340031003600</td>\n",
       "      <td>2008-07-24</td>\n",
       "      <td>Female</td>\n",
       "      <td>Service</td>\n",
       "      <td>No</td>\n",
       "      <td>3.0</td>\n",
       "      <td>7.0</td>\n",
       "      <td>6.9</td>\n",
       "      <td>0.52</td>\n",
       "    </tr>\n",
       "  </tbody>\n",
       "</table>\n",
       "</div>"
      ],
      "text/plain": [
       "                Employee ID Date of Joining  Gender Company Type  \\\n",
       "0  fffe32003000360033003200      2008-09-30  Female      Service   \n",
       "1      fffe3700360033003500      2008-11-30    Male      Service   \n",
       "2  fffe31003300320037003900      2008-03-10  Female      Product   \n",
       "3  fffe32003400380032003900      2008-11-03    Male      Service   \n",
       "4  fffe31003900340031003600      2008-07-24  Female      Service   \n",
       "\n",
       "  WFH Setup Available  Designation  Resource Allocation  Mental Fatigue Score  \\\n",
       "0                  No          2.0                  3.0                   3.8   \n",
       "1                 Yes          1.0                  2.0                   5.0   \n",
       "2                 Yes          2.0                  NaN                   5.8   \n",
       "3                 Yes          1.0                  1.0                   2.6   \n",
       "4                  No          3.0                  7.0                   6.9   \n",
       "\n",
       "   Burn Rate  \n",
       "0       0.16  \n",
       "1       0.36  \n",
       "2       0.49  \n",
       "3       0.20  \n",
       "4       0.52  "
      ]
     },
     "execution_count": 108,
     "metadata": {},
     "output_type": "execute_result"
    }
   ],
   "source": [
    "data.head()"
   ]
  },
  {
   "cell_type": "code",
   "execution_count": 109,
   "id": "21739ee2",
   "metadata": {},
   "outputs": [
    {
     "data": {
      "text/plain": [
       "Index(['Employee ID', 'Date of Joining', 'Gender', 'Company Type',\n",
       "       'WFH Setup Available', 'Designation', 'Resource Allocation',\n",
       "       'Mental Fatigue Score', 'Burn Rate'],\n",
       "      dtype='object')"
      ]
     },
     "execution_count": 109,
     "metadata": {},
     "output_type": "execute_result"
    }
   ],
   "source": [
    "data.columns"
   ]
  },
  {
   "cell_type": "code",
   "execution_count": 110,
   "id": "d76869ec",
   "metadata": {},
   "outputs": [
    {
     "name": "stdout",
     "output_type": "stream",
     "text": [
      "<class 'pandas.core.frame.DataFrame'>\n",
      "RangeIndex: 22750 entries, 0 to 22749\n",
      "Data columns (total 9 columns):\n",
      " #   Column                Non-Null Count  Dtype  \n",
      "---  ------                --------------  -----  \n",
      " 0   Employee ID           22750 non-null  object \n",
      " 1   Date of Joining       22750 non-null  object \n",
      " 2   Gender                22750 non-null  object \n",
      " 3   Company Type          22750 non-null  object \n",
      " 4   WFH Setup Available   22750 non-null  object \n",
      " 5   Designation           22750 non-null  float64\n",
      " 6   Resource Allocation   21369 non-null  float64\n",
      " 7   Mental Fatigue Score  20633 non-null  float64\n",
      " 8   Burn Rate             21626 non-null  float64\n",
      "dtypes: float64(4), object(5)\n",
      "memory usage: 1.6+ MB\n"
     ]
    }
   ],
   "source": [
    "data.info()"
   ]
  },
  {
   "cell_type": "code",
   "execution_count": 111,
   "id": "cfdde95f",
   "metadata": {},
   "outputs": [],
   "source": [
    "\n",
    "# Drop Employee ID, DOJ\n",
    "data = data.drop(['Employee ID', 'Date of Joining'], axis=1)\n"
   ]
  },
  {
   "cell_type": "code",
   "execution_count": 112,
   "id": "7ef34750",
   "metadata": {},
   "outputs": [
    {
     "data": {
      "text/plain": [
       "Index(['Gender', 'Company Type', 'WFH Setup Available', 'Designation',\n",
       "       'Resource Allocation', 'Mental Fatigue Score', 'Burn Rate'],\n",
       "      dtype='object')"
      ]
     },
     "execution_count": 112,
     "metadata": {},
     "output_type": "execute_result"
    }
   ],
   "source": [
    "data.columns"
   ]
  },
  {
   "cell_type": "markdown",
   "id": "3e0f333e",
   "metadata": {},
   "source": [
    "## Droping Duplicates if any"
   ]
  },
  {
   "cell_type": "code",
   "execution_count": 113,
   "id": "feca4caa",
   "metadata": {},
   "outputs": [
    {
     "name": "stdout",
     "output_type": "stream",
     "text": [
      "3005\n"
     ]
    }
   ],
   "source": [
    "duplicated_rows = data.duplicated()\n",
    "print(duplicated_rows.sum())"
   ]
  },
  {
   "cell_type": "code",
   "execution_count": 114,
   "id": "2ee022a3",
   "metadata": {},
   "outputs": [],
   "source": [
    "data.drop_duplicates(inplace = True) "
   ]
  },
  {
   "cell_type": "code",
   "execution_count": 115,
   "id": "02115491",
   "metadata": {},
   "outputs": [
    {
     "data": {
      "text/plain": [
       "(19745, 7)"
      ]
     },
     "execution_count": 115,
     "metadata": {},
     "output_type": "execute_result"
    }
   ],
   "source": [
    "data.shape"
   ]
  },
  {
   "cell_type": "code",
   "execution_count": 116,
   "id": "a8d581be",
   "metadata": {},
   "outputs": [
    {
     "data": {
      "image/png": "[encoded data removed]",
      "text/plain": [
       "<Figure size 640x480 with 2 Axes>"
      ]
     },
     "metadata": {},
     "output_type": "display_data"
    }
   ],
   "source": [
    "#using heatmap to check duplicates\n",
    "num_df.corr()\n",
    "sns.heatmap(num_df.corr(), annot=True, cmap='coolwarm')\n",
    "plt.show()"
   ]
  },
  {
   "cell_type": "code",
   "execution_count": 117,
   "id": "eb6867df",
   "metadata": {},
   "outputs": [],
   "source": [
    "data = data.drop(['Mental Fatigue Score'], axis=1)"
   ]
  },
  {
   "cell_type": "markdown",
   "id": "831ca417",
   "metadata": {},
   "source": [
    "## Handling Missing Values"
   ]
  },
  {
   "cell_type": "code",
   "execution_count": 118,
   "id": "674d5a74",
   "metadata": {},
   "outputs": [
    {
     "data": {
      "text/plain": [
       "Gender                    0\n",
       "Company Type              0\n",
       "WFH Setup Available       0\n",
       "Designation               0\n",
       "Resource Allocation    1340\n",
       "Burn Rate               973\n",
       "dtype: int64"
      ]
     },
     "execution_count": 118,
     "metadata": {},
     "output_type": "execute_result"
    }
   ],
   "source": [
    "data.isna().sum()"
   ]
  },
  {
   "cell_type": "code",
   "execution_count": 119,
   "id": "157f76fd",
   "metadata": {},
   "outputs": [
    {
     "name": "stdout",
     "output_type": "stream",
     "text": [
      "                     Missing Count  % of Total\n",
      "Gender                           0    0.000000\n",
      "Company Type                     0    0.000000\n",
      "WFH Setup Available              0    0.000000\n",
      "Designation                      0    0.000000\n",
      "Resource Allocation           1340    6.786528\n",
      "Burn Rate                      973    4.927830\n"
     ]
    }
   ],
   "source": [
    "missing_info = data.isnull().sum().to_frame(name='Missing Count')\n",
    "missing_info['% of Total'] = (missing_info['Missing Count'] / len(data)) * 100\n",
    "print(missing_info)"
   ]
  },
  {
   "cell_type": "code",
   "execution_count": 120,
   "id": "3a3deb91",
   "metadata": {},
   "outputs": [
    {
     "name": "stdout",
     "output_type": "stream",
     "text": [
      "Rows before drop: 19745\n",
      "Rows after drop: 18772\n",
      "Rows dropped: 973\n"
     ]
    }
   ],
   "source": [
    "#Drop rows where target (Burn Rate) is missing\n",
    "\n",
    "\n",
    "before_drop = data.shape[0]\n",
    "data = data.dropna(subset=['Burn Rate'])\n",
    "after_drop = data.shape[0]\n",
    "# Number of rows dropped\n",
    "dropped = before_drop - after_drop\n",
    "\n",
    "print(f\"Rows before drop: {before_drop}\")\n",
    "print(f\"Rows after drop: {after_drop}\")\n",
    "print(f\"Rows dropped: {dropped}\")"
   ]
  },
  {
   "cell_type": "code",
   "execution_count": 121,
   "id": "34e73814",
   "metadata": {},
   "outputs": [
    {
     "data": {
      "text/plain": [
       "Gender                    0\n",
       "Company Type              0\n",
       "WFH Setup Available       0\n",
       "Designation               0\n",
       "Resource Allocation    1242\n",
       "Burn Rate                 0\n",
       "dtype: int64"
      ]
     },
     "execution_count": 121,
     "metadata": {},
     "output_type": "execute_result"
    }
   ],
   "source": [
    "data.isna().sum()"
   ]
  },
  {
   "cell_type": "code",
   "execution_count": 122,
   "id": "5f6163a2",
   "metadata": {},
   "outputs": [
    {
     "name": "stdout",
     "output_type": "stream",
     "text": [
      "Numerical Columns are\n",
      "['Designation', 'Resource Allocation', 'Burn Rate']\n",
      "Categorical Columns are\n",
      "['Gender', 'Company Type', 'WFH Setup Available']\n"
     ]
    }
   ],
   "source": [
    "num_df= data.select_dtypes(include=\"number\")\n",
    "cat_df= data.select_dtypes(include=\"object\")\n",
    "print(\"Numerical Columns are\")\n",
    "num_cols=num_df.columns.tolist()\n",
    "print(num_cols)\n",
    "print(\"Categorical Columns are\")\n",
    "cat_cols=cat_df.columns.tolist()\n",
    "print(cat_cols)\n"
   ]
  },
  {
   "cell_type": "markdown",
   "id": "a6afd283",
   "metadata": {},
   "source": [
    "#Histogram"
   ]
  },
  {
   "cell_type": "code",
   "execution_count": 123,
   "id": "45e0e405",
   "metadata": {},
   "outputs": [
    {
     "data": {
      "image/png": "[encoded data removed]",
      "text/plain": [
       "<Figure size 640x480 with 1 Axes>"
      ]
     },
     "metadata": {},
     "output_type": "display_data"
    },
    {
     "data": {
      "image/png": "[encoded data removed]",
      "text/plain": [
       "<Figure size 640x480 with 1 Axes>"
      ]
     },
     "metadata": {},
     "output_type": "display_data"
    },
    {
     "data": {
      "image/png": "[encoded data removed]",
      "text/plain": [
       "<Figure size 640x480 with 1 Axes>"
      ]
     },
     "metadata": {},
     "output_type": "display_data"
    }
   ],
   "source": [
    "for col in num_cols:\n",
    "    plt.hist(num_df[col])\n",
    "    plt.title(\"Histogram of {} column\".format(col))\n",
    "    plt.xlabel(col)\n",
    "    plt.ylabel(\"count\")\n",
    "    plt.show()"
   ]
  },
  {
   "cell_type": "code",
   "execution_count": 124,
   "id": "de2a3aa3",
   "metadata": {},
   "outputs": [],
   "source": [
    "#filling for numerical columns"
   ]
  },
  {
   "cell_type": "code",
   "execution_count": 125,
   "id": "00ea7c94",
   "metadata": {},
   "outputs": [
    {
     "name": "stdout",
     "output_type": "stream",
     "text": [
      "Designation            0\n",
      "Resource Allocation    0\n",
      "Burn Rate              0\n",
      "dtype: int64\n"
     ]
    }
   ],
   "source": [
    "\n",
    "data['Resource Allocation'] = data['Resource Allocation'].fillna(data['Resource Allocation'].median())\n",
    "num_df = data.select_dtypes(include=['float64', 'int64'])\n",
    "print(num_df.isna().sum())"
   ]
  },
  {
   "cell_type": "code",
   "execution_count": 126,
   "id": "e7a3cfae",
   "metadata": {},
   "outputs": [
    {
     "data": {
      "text/plain": [
       "Gender                 0\n",
       "Company Type           0\n",
       "WFH Setup Available    0\n",
       "dtype: int64"
      ]
     },
     "execution_count": 126,
     "metadata": {},
     "output_type": "execute_result"
    }
   ],
   "source": [
    "cat_df.isna().sum() #checking for categorical columns"
   ]
  },
  {
   "cell_type": "code",
   "execution_count": 127,
   "id": "b93b66ea",
   "metadata": {},
   "outputs": [
    {
     "data": {
      "text/plain": [
       "Designation            0\n",
       "Resource Allocation    0\n",
       "Burn Rate              0\n",
       "Gender                 0\n",
       "Company Type           0\n",
       "WFH Setup Available    0\n",
       "dtype: int64"
      ]
     },
     "execution_count": 127,
     "metadata": {},
     "output_type": "execute_result"
    }
   ],
   "source": [
    "#recombine numerical and categorical colmns\n",
    "data=pd.concat([num_df,cat_df],axis=1)\n",
    "data.isna().sum()"
   ]
  },
  {
   "cell_type": "code",
   "execution_count": 128,
   "id": "9764eb63",
   "metadata": {},
   "outputs": [
    {
     "data": {
      "text/plain": [
       "(18772, 6)"
      ]
     },
     "execution_count": 128,
     "metadata": {},
     "output_type": "execute_result"
    }
   ],
   "source": [
    "data.shape"
   ]
  },
  {
   "cell_type": "markdown",
   "id": "45deaf82",
   "metadata": {},
   "source": [
    "## Outlier"
   ]
  },
  {
   "cell_type": "code",
   "execution_count": 129,
   "id": "f722f4d1",
   "metadata": {},
   "outputs": [
    {
     "data": {
      "image/png": "[encoded data removed]",
      "text/plain": [
       "<Figure size 640x480 with 1 Axes>"
      ]
     },
     "metadata": {},
     "output_type": "display_data"
    }
   ],
   "source": [
    "num_df.boxplot()\n",
    "plt.xticks(rotation=45)\n",
    "plt.show()"
   ]
  },
  {
   "cell_type": "code",
   "execution_count": 130,
   "id": "a9c37839",
   "metadata": {},
   "outputs": [
    {
     "data": {
      "text/plain": [
       "Designation\n",
       "2.0    6141\n",
       "3.0    4936\n",
       "1.0    4036\n",
       "4.0    2100\n",
       "0.0    1197\n",
       "5.0     362\n",
       "Name: count, dtype: int64"
      ]
     },
     "execution_count": 130,
     "metadata": {},
     "output_type": "execute_result"
    }
   ],
   "source": [
    "#checking data imbalance\n",
    "data['Designation'].value_counts()"
   ]
  },
  {
   "cell_type": "code",
   "execution_count": 131,
   "id": "8ce1bb2e",
   "metadata": {},
   "outputs": [
    {
     "data": {
      "image/png": "[encoded data removed]",
      "text/plain": [
       "<Figure size 800x400 with 1 Axes>"
      ]
     },
     "metadata": {},
     "output_type": "display_data"
    }
   ],
   "source": [
    "import matplotlib.pyplot as plt\n",
    "\n",
    "plt.figure(figsize=(8,4))\n",
    "data['Burn Rate'].hist(bins=30, color='skyblue', edgecolor='black')\n",
    "plt.title(\"Distribution of Burn Rate\")\n",
    "plt.xlabel(\"Burn Rate\")\n",
    "plt.ylabel(\"Frequency\")\n",
    "plt.show()\n"
   ]
  },
  {
   "cell_type": "markdown",
   "id": "7efaf230",
   "metadata": {},
   "source": [
    "## Encoding"
   ]
  },
  {
   "cell_type": "code",
   "execution_count": 132,
   "id": "23a9f098",
   "metadata": {},
   "outputs": [
    {
     "name": "stdout",
     "output_type": "stream",
     "text": [
      "   Gender Company Type WFH Setup Available\n",
      "0       0      Service                  No\n",
      "1       1      Service                 Yes\n",
      "2       0      Product                 Yes\n",
      "3       1      Service                 Yes\n",
      "4       0      Service                  No\n",
      "   Gender  Company Type WFH Setup Available\n",
      "0       0             1                  No\n",
      "1       1             1                 Yes\n",
      "2       0             0                 Yes\n",
      "3       1             1                 Yes\n",
      "4       0             1                  No\n",
      "   Gender  Company Type  WFH Setup Available\n",
      "0       0             1                    0\n",
      "1       1             1                    1\n",
      "2       0             0                    1\n",
      "3       1             1                    1\n",
      "4       0             1                    0\n"
     ]
    }
   ],
   "source": [
    "from sklearn.preprocessing import LabelEncoder\n",
    "\n",
    "# Make a copy to be safe\n",
    "df_label_encoded = data.copy()\n",
    "\n",
    "# Define the columns to encode\n",
    "cat_cols = ['Gender', 'Company Type', 'WFH Setup Available']\n",
    "\n",
    "# Apply LabelEncoder to each categorical column\n",
    "le = LabelEncoder()\n",
    "for col in cat_cols:\n",
    "    df_label_encoded[col] = le.fit_transform(df_label_encoded[col])\n",
    "    print(df_label_encoded[cat_cols].head())\n"
   ]
  },
  {
   "cell_type": "markdown",
   "id": "d64cae12",
   "metadata": {},
   "source": [
    "## Standaridization"
   ]
  },
  {
   "cell_type": "code",
   "execution_count": 133,
   "id": "bd5f9291",
   "metadata": {},
   "outputs": [
    {
     "name": "stdout",
     "output_type": "stream",
     "text": [
      "   Designation  Resource Allocation  Burn Rate\n",
      "0    -0.176273            -0.745597  -1.484704\n",
      "1    -1.048901            -1.243457  -0.483540\n",
      "2    -0.176273            -0.247737   0.167217\n",
      "3    -1.048901            -1.741317  -1.284471\n",
      "4     0.696355             1.245844   0.317392\n"
     ]
    }
   ],
   "source": [
    "from sklearn.preprocessing import StandardScaler\n",
    "\n",
    "# Make a copy\n",
    "df_scaled = df_label_encoded.copy()\n",
    "\n",
    "# Select numeric columns to scale (exclude target if needed)\n",
    "num_cols = ['Designation', 'Resource Allocation', 'Burn Rate']\n",
    "\n",
    "# Initialize the scaler\n",
    "scaler = StandardScaler()\n",
    "\n",
    "# Fit and transform the selected numeric columns\n",
    "df_scaled[num_cols] = scaler.fit_transform(df_scaled[num_cols])\n",
    "\n",
    "# Preview the result\n",
    "print(df_scaled[num_cols].head())\n"
   ]
  },
  {
   "cell_type": "markdown",
   "id": "0fb9a51f",
   "metadata": {},
   "source": [
    "## Feature SelectionX \n",
    "\n"
   ]
  },
  {
   "cell_type": "code",
   "execution_count": 134,
   "id": "232c6594",
   "metadata": {},
   "outputs": [],
   "source": [
    "X = df_label_encoded.drop('Burn Rate', axis=1)\n",
    "y = df_label_encoded['Burn Rate']\n"
   ]
  },
  {
   "cell_type": "code",
   "execution_count": 135,
   "id": "f453df1d",
   "metadata": {},
   "outputs": [],
   "source": [
    "from sklearn.model_selection import train_test_split\n",
    "\n",
    "X_train, X_test, y_train, y_test = train_test_split( X, y, test_size=0.2, random_state=42)\n"
   ]
  },
  {
   "cell_type": "markdown",
   "id": "a3812613",
   "metadata": {},
   "source": [
    "## LINEAR REGRESSION"
   ]
  },
  {
   "cell_type": "code",
   "execution_count": 136,
   "id": "b9c29fd7",
   "metadata": {},
   "outputs": [],
   "source": [
    "from sklearn.linear_model import LinearRegression\n",
    "model = LinearRegression()\n",
    "model.fit(X_train, y_train)\n",
    "y_pred = model.predict(X_test)\n"
   ]
  },
  {
   "cell_type": "code",
   "execution_count": 138,
   "id": "ea9a5a19",
   "metadata": {},
   "outputs": [
    {
     "name": "stdout",
     "output_type": "stream",
     "text": [
      "Mean Absolute Error (MAE):  0.0898\n",
      "Mean Squared Error (MSE):  0.0126\n",
      "Root Mean Squared Error (RMSE):  0.1124\n",
      "R² Score:  0.6996\n"
     ]
    }
   ],
   "source": [
    "from sklearn.metrics import mean_absolute_error, mean_squared_error, r2_score\n",
    "import numpy as np\n",
    "\n",
    "# Predictions\n",
    "y_pred = model.predict(X_test)\n",
    "\n",
    "# Evaluation Metrics\n",
    "mae = mean_absolute_error(y_test, y_pred)\n",
    "mse = mean_squared_error(y_test, y_pred)\n",
    "rmse = np.sqrt(mse)\n",
    "r2 = r2_score(y_test, y_pred)\n",
    "\n",
    "# Display results\n",
    "print(f\"Mean Absolute Error (MAE):  {mae:.4f}\")\n",
    "print(f\"Mean Squared Error (MSE):  {mse:.4f}\")\n",
    "print(f\"Root Mean Squared Error (RMSE):  {rmse:.4f}\")\n",
    "print(f\"R² Score:  {r2:.4f}\")\n"
   ]
  }
 ],
 "metadata": {
  "kernelspec": {
   "display_name": "base",
   "language": "python",
   "name": "python3"
  },
  "language_info": {
   "codemirror_mode": {
    "name": "ipython",
    "version": 3
   },
   "file_extension": ".py",
   "mimetype": "text/x-python",
   "name": "python",
   "nbconvert_exporter": "python",
   "pygments_lexer": "ipython3",
   "version": "3.13.5"
  }
 },
 "nbformat": 4,
 "nbformat_minor": 5
}
